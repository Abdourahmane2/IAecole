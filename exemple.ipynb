{
 "cells": [
  {
   "cell_type": "code",
   "execution_count": null,
   "id": "cea215e0",
   "metadata": {},
   "outputs": [],
   "source": [
    "pip install ntlk"
   ]
  },
  {
   "cell_type": "code",
   "execution_count": null,
   "id": "ecabc095",
   "metadata": {},
   "outputs": [
    {
     "name": "stdout",
     "output_type": "stream",
     "text": [
      ">bonjour\n",
      "Salut, comment ça va ?\n",
      ">votre nom\n",
      "jupyter notebooks\n"
     ]
    }
   ],
   "source": [
    "import nltk\n",
    "from nltk.chat.util import Chat, reflections\n",
    "tableau = [\n",
    "    [\n",
    "        r\"bonjour\",\n",
    "        [\"Salut, comment ça va ?\", \"Bonjour, comment puis-je vous aider ?\"]\n",
    "    ],\n",
    "    [\n",
    "        r\"votre nom ?\",\n",
    "        [\"jupyter notebooks\"]\n",
    "    ],\n",
    "]\n",
    "conversation = Chat(tableau , reflections)\n",
    "conversation.converse()"
   ]
  },
  {
   "cell_type": "code",
   "execution_count": null,
   "id": "574d747b",
   "metadata": {},
   "outputs": [],
   "source": []
  }
 ],
 "metadata": {
  "kernelspec": {
   "display_name": "Python 3 (ipykernel)",
   "language": "python",
   "name": "python3"
  },
  "language_info": {
   "codemirror_mode": {
    "name": "ipython",
    "version": 3
   },
   "file_extension": ".py",
   "mimetype": "text/x-python",
   "name": "python",
   "nbconvert_exporter": "python",
   "pygments_lexer": "ipython3",
   "version": "3.9.13"
  }
 },
 "nbformat": 4,
 "nbformat_minor": 5
}
