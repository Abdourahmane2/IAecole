{
 "cells": [
  {
   "cell_type": "code",
   "execution_count": 43,
   "id": "50bd72ab",
   "metadata": {},
   "outputs": [
    {
     "name": "stdout",
     "output_type": "stream",
     "text": [
      "texte : bonjour\n",
      "comment t’appelles-tu\n",
      "texte : quelle est la capitale du senegal?\n",
      "dakar\n",
      "texte : bye\n"
     ]
    }
   ],
   "source": [
    "regles_V0 = [\n",
    "    [\"regle salut\" ,\"bonjour\" , \"comment t’appelles-tu\"] ,\n",
    "    [\"regle au_revoir\" ,\"au revoir\" , \"au revoir et a la prochaine\"] ,\n",
    "    [\"regle age\" ,\"quelle age avez vous\" , \"je suis pas une personne\"] ,\n",
    "    [\"regle humour\" ,\"qu'est ce qui est jaune et qui attend?.........mon snap\" , \"haaaaaaaa tres drole\"] ,\n",
    "    [\"regle sport\" ,\"qui est le goat du foot\" , \"qui d'autre que Cr7\"] ,\n",
    "    [\"regle geographie\" ,\"quelle est la capitale du senegal?\" , \"dakar\"] ,\n",
    "    [\"regle richesse\" ,\"comment etre milliardiare\" , \"c'est un secret\"]\n",
    "]\n",
    "\n",
    "while True:\n",
    "    texte = input('texte : ')\n",
    "    if texte == 'bye':\n",
    "            break \n",
    "    for i in regles_V0:\n",
    "        if texte in i[1]:\n",
    "            print(i[2])\n",
    "            break\n",
    "             \n",
    "            \n",
    "        \n",
    "       \n",
    "          \n",
    "    \n",
    "    \n",
    "    "
   ]
  },
  {
   "cell_type": "code",
   "execution_count": null,
   "id": "3ea8813f",
   "metadata": {},
   "outputs": [],
   "source": []
  },
  {
   "cell_type": "code",
   "execution_count": 2,
   "id": "c5199666",
   "metadata": {},
   "outputs": [
    {
     "name": "stdout",
     "output_type": "stream",
     "text": [
      "> : salut\n",
      "comment t’appelles-tu\n",
      "> : abdourahmane\n",
      "desole soyez plus clair\n",
      "\n",
      "> : bye\n"
     ]
    }
   ],
   "source": [
    "regles_V1 = [\n",
    "    [\"regle salut\" ,\"bonjour \" , \"comment t’appelles-tu\" , 1 , \"somme\"] ,\n",
    "    [\"regle au_revoir\" ,\" au revoir \" , \"au revoir et a la prochaine\" , 2 , \"multiplication\"] ,\n",
    "    [\"regle age\" ,\"quelle age avez vous\" , \"je suis pas une personne\" , 3  ,\"division\"] ,\n",
    "    [\"regle humour\" ,\"qu'est ce qui est jaune et qui attend?.........mon snap\" , \"haaaaaaaa tres drole\" , 4 ,\"fcatorielle\"] ,\n",
    "    [\"regle sport\" ,\"qui est le goat du foot\" , \"qui d'autre que Cr7\" , 5 , \" racine carre\"] ,\n",
    "    [\"regle geographie\" ,\"quelle est la capitale du senegal?\" , \"dakar\" , 6 ,\" division entiere\"] ,\n",
    "    [\"regle richesse\" ,\"comment etre milliardiare\" , \"c'est un secret\" , 7 , \"modulo\"] ,\n",
    "    [\"regle richesse\" ,\"bonjour\" , \"vous revoila\" , 7 , \"modulo\"] ,\n",
    "    [\"regle nom\" ,\" je m'appelle  \" , \"bonjour \" , 8 , \"None\"] ,\n",
    "] \n",
    "while True:\n",
    "    dictionnaire_donnee = []\n",
    "    texte = input('> : ')\n",
    "    if texte == 'bye':\n",
    "            break \n",
    "    sortie = \"\"  \n",
    "    priorite = 0\n",
    "    for i in regles_V1:\n",
    "        if texte in i[1] or texte in i[0] :\n",
    "            if i[3]> priorite:\n",
    "                priorite = i[3]\n",
    "                sortie = i[2]\n",
    "                break \n",
    "        if texte  not in i[1] and  texte  not in i[0] :\n",
    "            print(\"desole soyez plus clair\")\n",
    "            break\n",
    "            \n",
    "        if texte == \"somme\":\n",
    "            valeur1 = int(input('donner la premiere valeur'))\n",
    "            valeur2 = int(input('donner la premiere valeur'))\n",
    "            print(valeur1+valeur2)\n",
    "            break\n",
    "        elif texte == \"multiplication\":\n",
    "            valeur1 = int(input('donner la premiere valeur'))\n",
    "            valeur2 = int(input('donner la premiere valeur'))\n",
    "            print(valeur1*valeur2)\n",
    "            break \n",
    "         \n",
    "                \n",
    "    print(sortie)\n",
    "    \n",
    " \n",
    "        \n",
    "          "
   ]
  },
  {
   "cell_type": "code",
   "execution_count": null,
   "id": "1166aa1f",
   "metadata": {},
   "outputs": [],
   "source": []
  }
 ],
 "metadata": {
  "kernelspec": {
   "display_name": "Python 3 (ipykernel)",
   "language": "python",
   "name": "python3"
  },
  "language_info": {
   "codemirror_mode": {
    "name": "ipython",
    "version": 3
   },
   "file_extension": ".py",
   "mimetype": "text/x-python",
   "name": "python",
   "nbconvert_exporter": "python",
   "pygments_lexer": "ipython3",
   "version": "3.9.13"
  }
 },
 "nbformat": 4,
 "nbformat_minor": 5
}
