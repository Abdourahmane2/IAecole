{
 "cells": [
  {
   "cell_type": "code",
   "execution_count": 117,
   "id": "75387e9e",
   "metadata": {},
   "outputs": [
    {
     "data": {
      "text/html": [
       "<div>\n",
       "<style scoped>\n",
       "    .dataframe tbody tr th:only-of-type {\n",
       "        vertical-align: middle;\n",
       "    }\n",
       "\n",
       "    .dataframe tbody tr th {\n",
       "        vertical-align: top;\n",
       "    }\n",
       "\n",
       "    .dataframe thead th {\n",
       "        text-align: right;\n",
       "    }\n",
       "</style>\n",
       "<table border=\"1\" class=\"dataframe\">\n",
       "  <thead>\n",
       "    <tr style=\"text-align: right;\">\n",
       "      <th></th>\n",
       "      <th>id</th>\n",
       "      <th>short_content</th>\n",
       "      <th>full_content</th>\n",
       "      <th>authors</th>\n",
       "      <th>date</th>\n",
       "      <th>affiliations</th>\n",
       "    </tr>\n",
       "  </thead>\n",
       "  <tbody>\n",
       "    <tr>\n",
       "      <th>0</th>\n",
       "      <td>0</td>\n",
       "      <td>Discours au Parlement grec</td>\n",
       "      <td>Monsieur le Président de la République, Monsie...</td>\n",
       "      <td>François Hollande</td>\n",
       "      <td>2015</td>\n",
       "      <td>elysee</td>\n",
       "    </tr>\n",
       "    <tr>\n",
       "      <th>1</th>\n",
       "      <td>1</td>\n",
       "      <td>Discours lors de la Conférence internationale ...</td>\n",
       "      <td>Paris – Jeudi 22 octobre 2015 Monsieur le Prés...</td>\n",
       "      <td>François Hollande</td>\n",
       "      <td>2015</td>\n",
       "      <td>elysee</td>\n",
       "    </tr>\n",
       "    <tr>\n",
       "      <th>2</th>\n",
       "      <td>2</td>\n",
       "      <td>Toast lors du dîner en l'honneur du président ...</td>\n",
       "      <td>elysee  – Mercredi 21 octobre  2015 LE PRESID...</td>\n",
       "      <td>François Hollande</td>\n",
       "      <td>2015</td>\n",
       "      <td>elysee</td>\n",
       "    </tr>\n",
       "    <tr>\n",
       "      <th>3</th>\n",
       "      <td>3</td>\n",
       "      <td>Point de presse conjoint avec le président mal...</td>\n",
       "      <td>elysee  – Mercredi 21 octobre 2015 LE PRESIDE...</td>\n",
       "      <td>François Hollande</td>\n",
       "      <td>2015</td>\n",
       "      <td>elysee</td>\n",
       "    </tr>\n",
       "    <tr>\n",
       "      <th>4</th>\n",
       "      <td>4</td>\n",
       "      <td>Discours lors de la Conférence sociale pour l'...</td>\n",
       "      <td>Palais d’Iéna – Lundi 19 octobre 2015 Monsieur...</td>\n",
       "      <td>François Hollande</td>\n",
       "      <td>2015</td>\n",
       "      <td>elysee</td>\n",
       "    </tr>\n",
       "  </tbody>\n",
       "</table>\n",
       "</div>"
      ],
      "text/plain": [
       "   id                                      short_content  \\\n",
       "0   0                         Discours au Parlement grec   \n",
       "1   1  Discours lors de la Conférence internationale ...   \n",
       "2   2  Toast lors du dîner en l'honneur du président ...   \n",
       "3   3  Point de presse conjoint avec le président mal...   \n",
       "4   4  Discours lors de la Conférence sociale pour l'...   \n",
       "\n",
       "                                        full_content            authors  date  \\\n",
       "0  Monsieur le Président de la République, Monsie...  François Hollande  2015   \n",
       "1  Paris – Jeudi 22 octobre 2015 Monsieur le Prés...  François Hollande  2015   \n",
       "2   elysee  – Mercredi 21 octobre  2015 LE PRESID...  François Hollande  2015   \n",
       "3   elysee  – Mercredi 21 octobre 2015 LE PRESIDE...  François Hollande  2015   \n",
       "4  Palais d’Iéna – Lundi 19 octobre 2015 Monsieur...  François Hollande  2015   \n",
       "\n",
       "  affiliations  \n",
       "0       elysee  \n",
       "1       elysee  \n",
       "2       elysee  \n",
       "3       elysee  \n",
       "4       elysee  "
      ]
     },
     "execution_count": 117,
     "metadata": {},
     "output_type": "execute_result"
    }
   ],
   "source": [
    "import pandas as pd\n",
    "data = pd.read_csv('elysee.csv' , sep='\\t' )\n",
    "data.head()"
   ]
  },
  {
   "cell_type": "code",
   "execution_count": 47,
   "id": "81428851",
   "metadata": {},
   "outputs": [
    {
     "name": "stdout",
     "output_type": "stream",
     "text": [
      "Requirement already satisfied: regex in c:\\users\\mamad\\anaconda2\\lib\\site-packages (2022.7.9)\n"
     ]
    }
   ],
   "source": [
    "!pip install regex"
   ]
  },
  {
   "cell_type": "code",
   "execution_count": 95,
   "id": "5cc0eebd",
   "metadata": {},
   "outputs": [
    {
     "data": {
      "text/plain": [
       "0      False\n",
       "1      False\n",
       "2      False\n",
       "3      False\n",
       "4      False\n",
       "       ...  \n",
       "843    False\n",
       "844    False\n",
       "845    False\n",
       "846    False\n",
       "847    False\n",
       "Name: full_content, Length: 848, dtype: bool"
      ]
     },
     "execution_count": 95,
     "metadata": {},
     "output_type": "execute_result"
    }
   ],
   "source": [
    "import re\n",
    "motif = \"2020\"\n",
    "result = data['full_content'].str.contains(motif)\n",
    "result    \n",
    "      "
   ]
  },
  {
   "cell_type": "code",
   "execution_count": 115,
   "id": "f59ecbce",
   "metadata": {},
   "outputs": [
    {
     "name": "stderr",
     "output_type": "stream",
     "text": [
      "IOPub data rate exceeded.\n",
      "The notebook server will temporarily stop sending output\n",
      "to the client in order to avoid crashing it.\n",
      "To change this limit, set the config variable\n",
      "`--NotebookApp.iopub_data_rate_limit`.\n",
      "\n",
      "Current values:\n",
      "NotebookApp.iopub_data_rate_limit=1000000.0 (bytes/sec)\n",
      "NotebookApp.rate_limit_window=3.0 (secs)\n",
      "\n"
     ]
    }
   ],
   "source": [
    "def trouve_motif(motif ,  texte):\n",
    "        for line in range(len(texte)):   #parcourir tous les ligne de la colonne\n",
    "            if motif in texte[line]:     #si le motif est dans la ligne\n",
    "                print(texte[line])\n",
    "                print('\\n')\n",
    "                \n",
    "trouve_motif( \"2020\" , data['full_content'])\n",
    "trouve_motif( \"Monsieur\" , data['full_content'])\n",
    "        \n",
    "    "
   ]
  },
  {
   "cell_type": "code",
   "execution_count": null,
   "id": "1b759482",
   "metadata": {},
   "outputs": [],
   "source": [
    "\n",
    "\n"
   ]
  }
 ],
 "metadata": {
  "kernelspec": {
   "display_name": "Python 3 (ipykernel)",
   "language": "python",
   "name": "python3"
  },
  "language_info": {
   "codemirror_mode": {
    "name": "ipython",
    "version": 3
   },
   "file_extension": ".py",
   "mimetype": "text/x-python",
   "name": "python",
   "nbconvert_exporter": "python",
   "pygments_lexer": "ipython3",
   "version": "3.9.13"
  }
 },
 "nbformat": 4,
 "nbformat_minor": 5
}
